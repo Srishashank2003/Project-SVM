{
  "cells": [
    {
      "cell_type": "code",
      "execution_count": null,
      "metadata": {
        "id": "Fya68F4bgJc8"
      },
      "outputs": [],
      "source": [
        "import pandas as pd\n",
        "import numpy as np\n",
        "import matplotlib.pyplot as plt\n",
        "import seaborn as sns\n",
        "from sklearn.model_selection import train_test_split\n",
        "from sklearn.svm import SVC\n",
        "from sklearn.metrics import accuracy_score, classification_report, confusion_matrix\n",
        "from sklearn.preprocessing import LabelEncoder, StandardScaler\n",
        "from sklearn.inspection import permutation_importance"
      ]
    },
    {
      "cell_type": "code",
      "execution_count": null,
      "metadata": {
        "id": "GVQ5tK_ikkUV"
      },
      "outputs": [],
      "source": [
        "# Load the \"Airline Passenger Satisfaction\" dataset\n",
        "data = pd.read_csv('test.csv')"
      ]
    },
    {
      "cell_type": "code",
      "execution_count": null,
      "metadata": {
        "colab": {
          "base_uri": "https://localhost:8080/",
          "height": 394
        },
        "id": "Y-I5KLO9ltWw",
        "outputId": "f16d2306-c4c7-465a-e1cc-3481b1f3a916"
      },
      "outputs": [],
      "source": [
        "data.head()"
      ]
    },
    {
      "cell_type": "code",
      "execution_count": null,
      "metadata": {
        "colab": {
          "base_uri": "https://localhost:8080/"
        },
        "id": "C88yKOq2nXD2",
        "outputId": "58f8e92d-0a75-4de6-b95e-b46298a83842"
      },
      "outputs": [],
      "source": [
        "data.shape"
      ]
    },
    {
      "cell_type": "code",
      "execution_count": null,
      "metadata": {
        "colab": {
          "base_uri": "https://localhost:8080/",
          "height": 868
        },
        "id": "05XEsyktnLyb",
        "outputId": "fa51c907-4649-4b46-af94-15844284742c"
      },
      "outputs": [],
      "source": [
        "data.isnull().sum()"
      ]
    },
    {
      "cell_type": "code",
      "execution_count": null,
      "metadata": {
        "id": "GovwPUjsna49"
      },
      "outputs": [],
      "source": [
        "data.dropna(subset=['Arrival Delay in Minutes'], inplace=True)\n",
        "data = data.drop(columns=['id'])\n",
        "data=data.drop(columns=['Unnamed: 0'])"
      ]
    },
    {
      "cell_type": "code",
      "execution_count": null,
      "metadata": {
        "colab": {
          "base_uri": "https://localhost:8080/",
          "height": 805
        },
        "id": "F5T6dmkgnuum",
        "outputId": "3fe4c3a2-7394-4c64-a493-16b1118cddac"
      },
      "outputs": [],
      "source": [
        "data.isnull().sum()"
      ]
    },
    {
      "cell_type": "code",
      "execution_count": null,
      "metadata": {
        "id": "wmgFJf8Ll16C"
      },
      "outputs": [],
      "source": [
        "label_encoder = LabelEncoder()\n",
        "data['Gender'] = label_encoder.fit_transform(data['Gender'])\n",
        "data['Customer Type'] = label_encoder.fit_transform(data['Customer Type'])\n",
        "data['Type of Travel'] = label_encoder.fit_transform(data['Type of Travel'])\n",
        "data['Class'] = label_encoder.fit_transform(data['Class'])"
      ]
    },
    {
      "cell_type": "code",
      "execution_count": null,
      "metadata": {
        "id": "quPkNwSMkrp3"
      },
      "outputs": [],
      "source": [
        "# Assuming the target variable is in a column named 'satisfaction'\n",
        "X = data.drop(columns=['satisfaction'])\n",
        "y = data['satisfaction']"
      ]
    },
    {
      "cell_type": "code",
      "execution_count": null,
      "metadata": {
        "id": "wyyDs2Fckv90"
      },
      "outputs": [],
      "source": [
        "# Split the dataset into training and testing sets\n",
        "X_train, X_test, y_train, y_test = train_test_split(X, y, test_size=0.2, random_state=42)"
      ]
    },
    {
      "cell_type": "code",
      "execution_count": null,
      "metadata": {
        "id": "mErUvc5omy1N"
      },
      "outputs": [],
      "source": [
        "sc = StandardScaler()\n",
        "X_train = sc.fit_transform(X_train)\n",
        "X_test = sc.fit_transform(X_test)"
      ]
    },
    {
      "cell_type": "code",
      "execution_count": null,
      "metadata": {
        "colab": {
          "base_uri": "https://localhost:8080/"
        },
        "id": "7dSw2eAPn42U",
        "outputId": "7d588530-da7e-44b7-b365-c7e2573671b1"
      },
      "outputs": [],
      "source": [
        "# Create an SVM classifier with an Linear kernel\n",
        "svm_classifier = SVC(kernel='linear', random_state=42)\n",
        "\n",
        "# Train the SVM classifier on the training data\n",
        "svm_classifier.fit(X_train, y_train)\n",
        "\n",
        "# Make predictions on the test data\n",
        "y_pred = svm_classifier.predict(X_test)\n",
        "\n",
        "# Calculate and print accuracy\n",
        "lin_accuracy = accuracy_score(y_test, y_pred)\n",
        "print(f\"Accuracy: {lin_accuracy * 100:.2f}%\")\n",
        "print(f\"Classification Report: {classification_report(y_test, y_pred)}\")"
      ]
    },
    {
      "cell_type": "code",
      "execution_count": null,
      "metadata": {
        "colab": {
          "base_uri": "https://localhost:8080/"
        },
        "id": "mXB_AeVkzB7z",
        "outputId": "1c93d144-539d-4713-8524-6ce07756b8aa"
      },
      "outputs": [],
      "source": [
        "cm = confusion_matrix(y_test, y_pred)\n",
        "\n",
        "# Plot Confusion Matrix\n",
        "plt.figure(figsize=(6, 5))\n",
        "sns.heatmap(cm, annot=True, fmt=\"d\", cmap=\"Blues\", cbar=False)\n",
        "plt.title(\"Confusion Matrix - Linear Kernel SVM\")\n",
        "plt.xlabel(\"Predicted\")\n",
        "plt.ylabel(\"Actual\")\n",
        "plt.show()"
      ]
    },
    {
      "cell_type": "code",
      "execution_count": null,
      "metadata": {
        "colab": {
          "base_uri": "https://localhost:8080/",
          "height": 607
        },
        "id": "Z8I4OhKdimmN",
        "outputId": "108bd5a1-51de-45aa-f92c-893a25ab75a1"
      },
      "outputs": [],
      "source": [
        "# Train the model\n",
        "model = SVC(kernel='linear')\n",
        "model.fit(X_train, y_train)\n",
        "\n",
        "# Use a subset of test data\n",
        "X_test_sample = X_test[:1000]\n",
        "y_test_sample = y_test[:1000]\n",
        "\n",
        "# Get permutation importance\n",
        "result = permutation_importance(model, X_test_sample, y_test_sample, n_repeats=5, random_state=42)\n",
        "\n",
        "# Create and sort a DataFrame of feature importances\n",
        "importance_df = pd.DataFrame({\n",
        "    'Feature': X.columns,\n",
        "    'Importance': result.importances_mean\n",
        "}).sort_values(by='Importance', ascending=True)  # ascending=True so most important is at the bottom\n",
        "\n",
        "# Plot\n",
        "plt.figure(figsize=(10, 6))\n",
        "plt.barh(importance_df['Feature'], importance_df['Importance'])\n",
        "plt.xlabel(\"Mean Decrease in Accuracy\")\n",
        "plt.title(\"Permutation Feature Importance for Linear Kernel\")\n",
        "plt.tight_layout()\n",
        "plt.show()"
      ]
    },
    {
      "cell_type": "code",
      "execution_count": null,
      "metadata": {
        "colab": {
          "base_uri": "https://localhost:8080/"
        },
        "id": "Vd-PIIPZNWFs",
        "outputId": "895c716d-dc14-445a-892b-897e575c6f46"
      },
      "outputs": [],
      "source": [
        "# Printing the weights and intercept of the model\n",
        "print(f\"w: {svm_classifier.coef_}\");\n",
        "print(f\"b: {svm_classifier.intercept_}\");"
      ]
    },
    {
      "cell_type": "code",
      "execution_count": null,
      "metadata": {
        "colab": {
          "base_uri": "https://localhost:8080/"
        },
        "id": "27O8DZG6fIQi",
        "outputId": "e91aa617-4390-4daa-feec-1f59f759bbdc"
      },
      "outputs": [],
      "source": [
        "# Create an SVM classifier with an Polynomial kernel\n",
        "svm_classifier = SVC(kernel='poly', random_state=42)\n",
        "\n",
        "# Train the SVM classifier on the training data\n",
        "svm_classifier.fit(X_train, y_train)\n",
        "\n",
        "# Make predictions on the test data\n",
        "y_pred = svm_classifier.predict(X_test)\n",
        "\n",
        "# Calculate and print accuracy\n",
        "poly_accuracy = accuracy_score(y_test, y_pred)\n",
        "print(f\"Accuracy: {poly_accuracy * 100:.2f}%\")\n",
        "print(f\"Classification Report: {classification_report(y_test, y_pred)}\")"
      ]
    },
    {
      "cell_type": "code",
      "execution_count": null,
      "metadata": {
        "colab": {
          "base_uri": "https://localhost:8080/"
        },
        "id": "zia8pWNvyaqZ",
        "outputId": "2055ce98-b5a1-40d1-8eb7-69cab9591e8f"
      },
      "outputs": [],
      "source": [
        "cm = confusion_matrix(y_test, y_pred)\n",
        "\n",
        "# Plot Confusion Matrix\n",
        "plt.figure(figsize=(6, 5))\n",
        "sns.heatmap(cm, annot=True, fmt=\"d\", cmap=\"Blues\", cbar=False)\n",
        "plt.title(\"Confusion Matrix - Polynomial Kernel SVM\")\n",
        "plt.xlabel(\"Predicted\")\n",
        "plt.ylabel(\"Actual\")\n",
        "plt.show()"
      ]
    },
    {
      "cell_type": "code",
      "execution_count": null,
      "metadata": {
        "colab": {
          "base_uri": "https://localhost:8080/"
        },
        "id": "Fakf6LWHo23R",
        "outputId": "3e95ad40-bb58-4d6a-cf86-660b16eb0c73"
      },
      "outputs": [],
      "source": [
        "# Train the model\n",
        "model = SVC(kernel='poly')\n",
        "model.fit(X_train, y_train)\n",
        "\n",
        "# Get permutation importance\n",
        "result = permutation_importance(model, X_test_sample, y_test_sample, n_repeats=5, random_state=42)\n",
        "\n",
        "# Create and sort a DataFrame of feature importances\n",
        "importance_df = pd.DataFrame({\n",
        "    'Feature': X.columns,\n",
        "    'Importance': result.importances_mean\n",
        "}).sort_values(by='Importance', ascending=True)  # ascending=True so most important is at the bottom\n",
        "\n",
        "# Plot\n",
        "plt.figure(figsize=(10, 6))\n",
        "plt.barh(importance_df['Feature'], importance_df['Importance'])\n",
        "plt.xlabel(\"Mean Decrease in Accuracy\")\n",
        "plt.ylabel(\"Features\")\n",
        "plt.title(\"Permutation Feature Importance for Polynomial Kernel\")\n",
        "plt.tight_layout()\n",
        "plt.show()"
      ]
    },
    {
      "cell_type": "code",
      "execution_count": null,
      "metadata": {
        "colab": {
          "base_uri": "https://localhost:8080/"
        },
        "id": "FAJPugS3n8J_",
        "outputId": "aace42d8-1825-4659-c0ae-20f51934d03b"
      },
      "outputs": [],
      "source": [
        "# Create an SVM classifier with an RBF kernel\n",
        "svm_classifier = SVC(kernel='rbf', random_state=42)\n",
        "\n",
        "# Train the SVM classifier on the training data\n",
        "svm_classifier.fit(X_train, y_train)\n",
        "\n",
        "# Make predictions on the test data\n",
        "y_pred = svm_classifier.predict(X_test)\n",
        "\n",
        "# Calculate and print accuracy\n",
        "rbf_accuracy = accuracy_score(y_test, y_pred)\n",
        "print(f\"Accuracy: {rbf_accuracy * 100:.2f}%\")\n",
        "print(f\"Classification Report: {classification_report(y_test, y_pred)}\")"
      ]
    },
    {
      "cell_type": "code",
      "execution_count": null,
      "metadata": {
        "colab": {
          "base_uri": "https://localhost:8080/"
        },
        "id": "UCj3T_4Oj3W6",
        "outputId": "1c1034b3-8be5-4e22-f2ef-74fc9a7a84e5"
      },
      "outputs": [],
      "source": [
        "cm = confusion_matrix(y_test, y_pred)\n",
        "\n",
        "# Plot Confusion Matrix\n",
        "plt.figure(figsize=(6, 5))\n",
        "sns.heatmap(cm, annot=True, fmt=\"d\", cmap=\"Blues\", cbar=False)\n",
        "plt.title(\"Confusion Matrix - RBF Kernel SVM\")\n",
        "plt.xlabel(\"Predicted\")\n",
        "plt.ylabel(\"Actual\")\n",
        "plt.show()"
      ]
    },
    {
      "cell_type": "code",
      "execution_count": null,
      "metadata": {
        "colab": {
          "base_uri": "https://localhost:8080/"
        },
        "id": "4TSChe7Qy22C",
        "outputId": "dc54bff0-5dac-43fd-835c-e4bc7ee53008"
      },
      "outputs": [],
      "source": [
        "# Train the model\n",
        "model = SVC(kernel='rbf')\n",
        "model.fit(X_train, y_train)\n",
        "\n",
        "# Get permutation importance\n",
        "result = permutation_importance(model, X_test_sample, y_test_sample, n_repeats=5, random_state=42)\n",
        "\n",
        "# Create and sort a DataFrame of feature importances\n",
        "importance_df = pd.DataFrame({\n",
        "    'Feature': X.columns,\n",
        "    'Importance': result.importances_mean\n",
        "}).sort_values(by='Importance', ascending=True)  # ascending=True so most important is at the bottom\n",
        "\n",
        "# Plot\n",
        "plt.figure(figsize=(10, 6))\n",
        "plt.barh(importance_df['Feature'], importance_df['Importance'])\n",
        "plt.xlabel(\"Mean Decrease in Accuracy\")\n",
        "plt.ylabel(\"Features\")\n",
        "plt.title(\"Permutation Feature Importance for RBF Kernel\")\n",
        "plt.tight_layout()\n",
        "plt.show()"
      ]
    },
    {
      "cell_type": "code",
      "execution_count": null,
      "metadata": {
        "colab": {
          "base_uri": "https://localhost:8080/",
          "height": 507
        },
        "id": "4K-8fqiAHyt3",
        "outputId": "51cbfe1c-9426-4be6-9dce-df807a190e8a"
      },
      "outputs": [],
      "source": [
        "# Accuracy values dictionary\n",
        "accuracies = {\n",
        "    'Linear': lin_accuracy,\n",
        "    'Polynomial': poly_accuracy,\n",
        "    'RBF': rbf_accuracy\n",
        "}\n",
        "\n",
        "# Plotting\n",
        "plt.figure(figsize=(8, 5))\n",
        "bars = plt.bar(accuracies.keys(), [v * 100 for v in accuracies.values()], color=['#1f77b4', '#ff7f0e', '#2ca02c'])\n",
        "plt.ylabel(\"Accuracy (%)\")\n",
        "plt.title(\"SVM Kernel Accuracy Comparison\")\n",
        "plt.ylim(0, 100)\n",
        "plt.grid(axis='y', linestyle='--', alpha=0.7)\n",
        "\n",
        "# Add value labels\n",
        "for bar in bars:\n",
        "    yval = bar.get_height()\n",
        "    plt.text(bar.get_x() + bar.get_width()/2.0, yval + 1, f'{yval:.2f}%', ha='center', va='bottom', fontweight='bold')\n",
        "\n",
        "plt.tight_layout()\n",
        "plt.show()\n"
      ]
    }
  ],
  "metadata": {
    "colab": {
      "provenance": []
    },
    "kernelspec": {
      "display_name": "venv",
      "language": "python",
      "name": "python3"
    },
    "language_info": {
      "codemirror_mode": {
        "name": "ipython",
        "version": 3
      },
      "file_extension": ".py",
      "mimetype": "text/x-python",
      "name": "python",
      "nbconvert_exporter": "python",
      "pygments_lexer": "ipython3",
      "version": "3.10.4"
    }
  },
  "nbformat": 4,
  "nbformat_minor": 0
}
